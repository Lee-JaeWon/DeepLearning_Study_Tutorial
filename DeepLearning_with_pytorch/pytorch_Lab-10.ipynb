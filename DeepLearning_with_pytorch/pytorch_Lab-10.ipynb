{
 "cells": [
  {
   "cell_type": "markdown",
   "id": "19945df6",
   "metadata": {},
   "source": [
    "### nn.Conv2d"
   ]
  },
  {
   "cell_type": "code",
   "execution_count": 1,
   "id": "e30b000e",
   "metadata": {},
   "outputs": [],
   "source": [
    "import torch\n",
    "import torch.nn as nn"
   ]
  },
  {
   "cell_type": "code",
   "execution_count": 2,
   "id": "1b5f1e54",
   "metadata": {},
   "outputs": [
    {
     "name": "stdout",
     "output_type": "stream",
     "text": [
      "Conv2d(1, 1, kernel_size=(11, 11), stride=(4, 4))\n"
     ]
    }
   ],
   "source": [
    "conv = nn.Conv2d(1,1,11,stride = 4, padding = 0)\n",
    "print (conv)"
   ]
  },
  {
   "cell_type": "code",
   "execution_count": 3,
   "id": "631b7eaa",
   "metadata": {},
   "outputs": [
    {
     "data": {
      "text/plain": [
       "torch.Size([1, 1, 227, 227])"
      ]
     },
     "execution_count": 3,
     "metadata": {},
     "output_type": "execute_result"
    }
   ],
   "source": [
    "inputs = torch.Tensor(1, 1, 227, 227)\n",
    "inputs.shape"
   ]
  },
  {
   "cell_type": "code",
   "execution_count": 4,
   "id": "0d4fcda2",
   "metadata": {},
   "outputs": [
    {
     "data": {
      "text/plain": [
       "torch.Size([1, 1, 55, 55])"
      ]
     },
     "execution_count": 4,
     "metadata": {},
     "output_type": "execute_result"
    }
   ],
   "source": [
    "out = conv(inputs)\n",
    "out.shape"
   ]
  },
  {
   "cell_type": "markdown",
   "id": "0e1b07b8",
   "metadata": {},
   "source": [
    "### CNN implementation"
   ]
  },
  {
   "cell_type": "code",
   "execution_count": 5,
   "id": "adf370ad",
   "metadata": {},
   "outputs": [],
   "source": [
    "import torch\n",
    "import torch.nn as nn"
   ]
  },
  {
   "cell_type": "code",
   "execution_count": 6,
   "id": "de9be368",
   "metadata": {},
   "outputs": [],
   "source": [
    "inputs = torch.Tensor(1, 1, 28, 28)"
   ]
  },
  {
   "cell_type": "code",
   "execution_count": 7,
   "id": "e87976c8",
   "metadata": {},
   "outputs": [],
   "source": [
    "#input channel은 하나 #output channel은 5개 #filter size = 5\n",
    "conv1 = nn.Conv2d(1, 5, 5)"
   ]
  },
  {
   "cell_type": "code",
   "execution_count": 8,
   "id": "1a93007c",
   "metadata": {},
   "outputs": [],
   "source": [
    "pool = nn.MaxPool2d(2)"
   ]
  },
  {
   "cell_type": "code",
   "execution_count": 9,
   "id": "e1bae893",
   "metadata": {},
   "outputs": [],
   "source": [
    "out = conv1(inputs)"
   ]
  },
  {
   "cell_type": "code",
   "execution_count": 10,
   "id": "7e1a5a82",
   "metadata": {},
   "outputs": [
    {
     "name": "stderr",
     "output_type": "stream",
     "text": [
      "C:\\Users\\LeeJaeWon\\anaconda3\\envs\\DeepLearningStudy\\lib\\site-packages\\torch\\nn\\functional.py:718: UserWarning: Named tensors and all their associated APIs are an experimental feature and subject to change. Please do not use them for anything important until they are released as stable. (Triggered internally at  ..\\c10/core/TensorImpl.h:1156.)\n",
      "  return torch.max_pool2d(input, kernel_size, stride, padding, dilation, ceil_mode)\n"
     ]
    }
   ],
   "source": [
    "out2 = pool(out)"
   ]
  },
  {
   "cell_type": "code",
   "execution_count": 11,
   "id": "fa0ffb66",
   "metadata": {},
   "outputs": [
    {
     "data": {
      "text/plain": [
       "torch.Size([1, 5, 24, 24])"
      ]
     },
     "execution_count": 11,
     "metadata": {},
     "output_type": "execute_result"
    }
   ],
   "source": [
    "out.size()"
   ]
  },
  {
   "cell_type": "code",
   "execution_count": 12,
   "id": "b4dc20d8",
   "metadata": {},
   "outputs": [
    {
     "data": {
      "text/plain": [
       "torch.Size([1, 5, 12, 12])"
      ]
     },
     "execution_count": 12,
     "metadata": {},
     "output_type": "execute_result"
    }
   ],
   "source": [
    "out2.size()"
   ]
  }
 ],
 "metadata": {
  "kernelspec": {
   "display_name": "Python 3",
   "language": "python",
   "name": "python3"
  },
  "language_info": {
   "codemirror_mode": {
    "name": "ipython",
    "version": 3
   },
   "file_extension": ".py",
   "mimetype": "text/x-python",
   "name": "python",
   "nbconvert_exporter": "python",
   "pygments_lexer": "ipython3",
   "version": "3.8.10"
  }
 },
 "nbformat": 4,
 "nbformat_minor": 5
}
