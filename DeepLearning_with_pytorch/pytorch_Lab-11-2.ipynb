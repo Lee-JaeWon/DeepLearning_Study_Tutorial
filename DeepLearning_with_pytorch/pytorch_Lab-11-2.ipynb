{
 "cells": [
  {
   "cell_type": "code",
   "execution_count": 1,
   "id": "97de42e5",
   "metadata": {},
   "outputs": [],
   "source": [
    "import torch\n",
    "import torch.optim as optim\n",
    "import numpy as np"
   ]
  },
  {
   "cell_type": "code",
   "execution_count": 2,
   "id": "7978b32a",
   "metadata": {},
   "outputs": [
    {
     "data": {
      "text/plain": [
       "<torch._C.Generator at 0x24898972e30>"
      ]
     },
     "execution_count": 2,
     "metadata": {},
     "output_type": "execute_result"
    }
   ],
   "source": [
    "# Random seed to make results deterministic and reproducible\n",
    "torch.manual_seed(0)"
   ]
  },
  {
   "cell_type": "code",
   "execution_count": 3,
   "id": "e6d0d7ee",
   "metadata": {},
   "outputs": [],
   "source": [
    "sample = \" if you want you\""
   ]
  },
  {
   "cell_type": "code",
   "execution_count": 4,
   "id": "e8302d25",
   "metadata": {},
   "outputs": [
    {
     "name": "stdout",
     "output_type": "stream",
     "text": [
      "{' ': 0, 'y': 1, 'o': 2, 'n': 3, 'u': 4, 't': 5, 'w': 6, 'i': 7, 'a': 8, 'f': 9}\n"
     ]
    }
   ],
   "source": [
    "# make dictionary\n",
    "char_set = list(set(sample))\n",
    "char_dic = {c: i for i, c in enumerate(char_set)}\n",
    "print(char_dic)"
   ]
  },
  {
   "cell_type": "code",
   "execution_count": 5,
   "id": "05049820",
   "metadata": {},
   "outputs": [],
   "source": [
    "# hyper parameters\n",
    "dic_size = len(char_dic)\n",
    "hidden_size = len(char_dic)\n",
    "learning_rate = 0."
   ]
  },
  {
   "cell_type": "code",
   "execution_count": 6,
   "id": "2597ada6",
   "metadata": {},
   "outputs": [],
   "source": [
    "# data setting\n",
    "sample_idx = [char_dic[c] for c in sample]\n",
    "x_data = [sample_idx[:-1]]\n",
    "x_one_hot = [np.eye(dic_size)[x] for x in x_data]\n",
    "y_data = [sample_idx[1:]]"
   ]
  },
  {
   "cell_type": "code",
   "execution_count": 7,
   "id": "f75666d4",
   "metadata": {},
   "outputs": [],
   "source": [
    "# transform as torch tensor variable\n",
    "X = torch.FloatTensor(x_one_hot)\n",
    "Y = torch.LongTensor(y_data)"
   ]
  },
  {
   "cell_type": "code",
   "execution_count": 8,
   "id": "9da7e101",
   "metadata": {},
   "outputs": [],
   "source": [
    "# declare RNN\n",
    "rnn = torch.nn.RNN(dic_size, hidden_size, batch_first=True)"
   ]
  },
  {
   "cell_type": "code",
   "execution_count": 10,
   "id": "a0c70cba",
   "metadata": {},
   "outputs": [],
   "source": [
    "# loss & optimizer setting\n",
    "criterion = torch.nn.CrossEntropyLoss()\n",
    "optimizer = optim.Adam(rnn.parameters(), learning_rate)"
   ]
  },
  {
   "cell_type": "code",
   "execution_count": 13,
   "id": "1262ccca",
   "metadata": {},
   "outputs": [
    {
     "name": "stdout",
     "output_type": "stream",
     "text": [
      "0 loss:  2.2774012088775635 prediction:  [[5 0 0 5 8 7 7 5 8 8 7 7 5 8 7]] true Y:  [[7, 9, 0, 1, 2, 4, 0, 6, 8, 3, 5, 0, 1, 2, 4]] prediction str:  t  taiitaaiitai\n",
      "1 loss:  2.2774012088775635 prediction:  [[5 0 0 5 8 7 7 5 8 8 7 7 5 8 7]] true Y:  [[7, 9, 0, 1, 2, 4, 0, 6, 8, 3, 5, 0, 1, 2, 4]] prediction str:  t  taiitaaiitai\n",
      "2 loss:  2.2774012088775635 prediction:  [[5 0 0 5 8 7 7 5 8 8 7 7 5 8 7]] true Y:  [[7, 9, 0, 1, 2, 4, 0, 6, 8, 3, 5, 0, 1, 2, 4]] prediction str:  t  taiitaaiitai\n",
      "3 loss:  2.2774012088775635 prediction:  [[5 0 0 5 8 7 7 5 8 8 7 7 5 8 7]] true Y:  [[7, 9, 0, 1, 2, 4, 0, 6, 8, 3, 5, 0, 1, 2, 4]] prediction str:  t  taiitaaiitai\n",
      "4 loss:  2.2774012088775635 prediction:  [[5 0 0 5 8 7 7 5 8 8 7 7 5 8 7]] true Y:  [[7, 9, 0, 1, 2, 4, 0, 6, 8, 3, 5, 0, 1, 2, 4]] prediction str:  t  taiitaaiitai\n",
      "5 loss:  2.2774012088775635 prediction:  [[5 0 0 5 8 7 7 5 8 8 7 7 5 8 7]] true Y:  [[7, 9, 0, 1, 2, 4, 0, 6, 8, 3, 5, 0, 1, 2, 4]] prediction str:  t  taiitaaiitai\n",
      "6 loss:  2.2774012088775635 prediction:  [[5 0 0 5 8 7 7 5 8 8 7 7 5 8 7]] true Y:  [[7, 9, 0, 1, 2, 4, 0, 6, 8, 3, 5, 0, 1, 2, 4]] prediction str:  t  taiitaaiitai\n",
      "7 loss:  2.2774012088775635 prediction:  [[5 0 0 5 8 7 7 5 8 8 7 7 5 8 7]] true Y:  [[7, 9, 0, 1, 2, 4, 0, 6, 8, 3, 5, 0, 1, 2, 4]] prediction str:  t  taiitaaiitai\n",
      "8 loss:  2.2774012088775635 prediction:  [[5 0 0 5 8 7 7 5 8 8 7 7 5 8 7]] true Y:  [[7, 9, 0, 1, 2, 4, 0, 6, 8, 3, 5, 0, 1, 2, 4]] prediction str:  t  taiitaaiitai\n",
      "9 loss:  2.2774012088775635 prediction:  [[5 0 0 5 8 7 7 5 8 8 7 7 5 8 7]] true Y:  [[7, 9, 0, 1, 2, 4, 0, 6, 8, 3, 5, 0, 1, 2, 4]] prediction str:  t  taiitaaiitai\n",
      "10 loss:  2.2774012088775635 prediction:  [[5 0 0 5 8 7 7 5 8 8 7 7 5 8 7]] true Y:  [[7, 9, 0, 1, 2, 4, 0, 6, 8, 3, 5, 0, 1, 2, 4]] prediction str:  t  taiitaaiitai\n",
      "11 loss:  2.2774012088775635 prediction:  [[5 0 0 5 8 7 7 5 8 8 7 7 5 8 7]] true Y:  [[7, 9, 0, 1, 2, 4, 0, 6, 8, 3, 5, 0, 1, 2, 4]] prediction str:  t  taiitaaiitai\n",
      "12 loss:  2.2774012088775635 prediction:  [[5 0 0 5 8 7 7 5 8 8 7 7 5 8 7]] true Y:  [[7, 9, 0, 1, 2, 4, 0, 6, 8, 3, 5, 0, 1, 2, 4]] prediction str:  t  taiitaaiitai\n",
      "13 loss:  2.2774012088775635 prediction:  [[5 0 0 5 8 7 7 5 8 8 7 7 5 8 7]] true Y:  [[7, 9, 0, 1, 2, 4, 0, 6, 8, 3, 5, 0, 1, 2, 4]] prediction str:  t  taiitaaiitai\n",
      "14 loss:  2.2774012088775635 prediction:  [[5 0 0 5 8 7 7 5 8 8 7 7 5 8 7]] true Y:  [[7, 9, 0, 1, 2, 4, 0, 6, 8, 3, 5, 0, 1, 2, 4]] prediction str:  t  taiitaaiitai\n",
      "15 loss:  2.2774012088775635 prediction:  [[5 0 0 5 8 7 7 5 8 8 7 7 5 8 7]] true Y:  [[7, 9, 0, 1, 2, 4, 0, 6, 8, 3, 5, 0, 1, 2, 4]] prediction str:  t  taiitaaiitai\n",
      "16 loss:  2.2774012088775635 prediction:  [[5 0 0 5 8 7 7 5 8 8 7 7 5 8 7]] true Y:  [[7, 9, 0, 1, 2, 4, 0, 6, 8, 3, 5, 0, 1, 2, 4]] prediction str:  t  taiitaaiitai\n",
      "17 loss:  2.2774012088775635 prediction:  [[5 0 0 5 8 7 7 5 8 8 7 7 5 8 7]] true Y:  [[7, 9, 0, 1, 2, 4, 0, 6, 8, 3, 5, 0, 1, 2, 4]] prediction str:  t  taiitaaiitai\n",
      "18 loss:  2.2774012088775635 prediction:  [[5 0 0 5 8 7 7 5 8 8 7 7 5 8 7]] true Y:  [[7, 9, 0, 1, 2, 4, 0, 6, 8, 3, 5, 0, 1, 2, 4]] prediction str:  t  taiitaaiitai\n",
      "19 loss:  2.2774012088775635 prediction:  [[5 0 0 5 8 7 7 5 8 8 7 7 5 8 7]] true Y:  [[7, 9, 0, 1, 2, 4, 0, 6, 8, 3, 5, 0, 1, 2, 4]] prediction str:  t  taiitaaiitai\n",
      "20 loss:  2.2774012088775635 prediction:  [[5 0 0 5 8 7 7 5 8 8 7 7 5 8 7]] true Y:  [[7, 9, 0, 1, 2, 4, 0, 6, 8, 3, 5, 0, 1, 2, 4]] prediction str:  t  taiitaaiitai\n",
      "21 loss:  2.2774012088775635 prediction:  [[5 0 0 5 8 7 7 5 8 8 7 7 5 8 7]] true Y:  [[7, 9, 0, 1, 2, 4, 0, 6, 8, 3, 5, 0, 1, 2, 4]] prediction str:  t  taiitaaiitai\n",
      "22 loss:  2.2774012088775635 prediction:  [[5 0 0 5 8 7 7 5 8 8 7 7 5 8 7]] true Y:  [[7, 9, 0, 1, 2, 4, 0, 6, 8, 3, 5, 0, 1, 2, 4]] prediction str:  t  taiitaaiitai\n",
      "23 loss:  2.2774012088775635 prediction:  [[5 0 0 5 8 7 7 5 8 8 7 7 5 8 7]] true Y:  [[7, 9, 0, 1, 2, 4, 0, 6, 8, 3, 5, 0, 1, 2, 4]] prediction str:  t  taiitaaiitai\n",
      "24 loss:  2.2774012088775635 prediction:  [[5 0 0 5 8 7 7 5 8 8 7 7 5 8 7]] true Y:  [[7, 9, 0, 1, 2, 4, 0, 6, 8, 3, 5, 0, 1, 2, 4]] prediction str:  t  taiitaaiitai\n",
      "25 loss:  2.2774012088775635 prediction:  [[5 0 0 5 8 7 7 5 8 8 7 7 5 8 7]] true Y:  [[7, 9, 0, 1, 2, 4, 0, 6, 8, 3, 5, 0, 1, 2, 4]] prediction str:  t  taiitaaiitai\n",
      "26 loss:  2.2774012088775635 prediction:  [[5 0 0 5 8 7 7 5 8 8 7 7 5 8 7]] true Y:  [[7, 9, 0, 1, 2, 4, 0, 6, 8, 3, 5, 0, 1, 2, 4]] prediction str:  t  taiitaaiitai\n",
      "27 loss:  2.2774012088775635 prediction:  [[5 0 0 5 8 7 7 5 8 8 7 7 5 8 7]] true Y:  [[7, 9, 0, 1, 2, 4, 0, 6, 8, 3, 5, 0, 1, 2, 4]] prediction str:  t  taiitaaiitai\n",
      "28 loss:  2.2774012088775635 prediction:  [[5 0 0 5 8 7 7 5 8 8 7 7 5 8 7]] true Y:  [[7, 9, 0, 1, 2, 4, 0, 6, 8, 3, 5, 0, 1, 2, 4]] prediction str:  t  taiitaaiitai\n",
      "29 loss:  2.2774012088775635 prediction:  [[5 0 0 5 8 7 7 5 8 8 7 7 5 8 7]] true Y:  [[7, 9, 0, 1, 2, 4, 0, 6, 8, 3, 5, 0, 1, 2, 4]] prediction str:  t  taiitaaiitai\n",
      "30 loss:  2.2774012088775635 prediction:  [[5 0 0 5 8 7 7 5 8 8 7 7 5 8 7]] true Y:  [[7, 9, 0, 1, 2, 4, 0, 6, 8, 3, 5, 0, 1, 2, 4]] prediction str:  t  taiitaaiitai\n",
      "31 loss:  2.2774012088775635 prediction:  [[5 0 0 5 8 7 7 5 8 8 7 7 5 8 7]] true Y:  [[7, 9, 0, 1, 2, 4, 0, 6, 8, 3, 5, 0, 1, 2, 4]] prediction str:  t  taiitaaiitai\n",
      "32 loss:  2.2774012088775635 prediction:  [[5 0 0 5 8 7 7 5 8 8 7 7 5 8 7]] true Y:  [[7, 9, 0, 1, 2, 4, 0, 6, 8, 3, 5, 0, 1, 2, 4]] prediction str:  t  taiitaaiitai\n",
      "33 loss:  2.2774012088775635 prediction:  [[5 0 0 5 8 7 7 5 8 8 7 7 5 8 7]] true Y:  [[7, 9, 0, 1, 2, 4, 0, 6, 8, 3, 5, 0, 1, 2, 4]] prediction str:  t  taiitaaiitai\n",
      "34 loss:  2.2774012088775635 prediction:  [[5 0 0 5 8 7 7 5 8 8 7 7 5 8 7]] true Y:  [[7, 9, 0, 1, 2, 4, 0, 6, 8, 3, 5, 0, 1, 2, 4]] prediction str:  t  taiitaaiitai\n",
      "35 loss:  2.2774012088775635 prediction:  [[5 0 0 5 8 7 7 5 8 8 7 7 5 8 7]] true Y:  [[7, 9, 0, 1, 2, 4, 0, 6, 8, 3, 5, 0, 1, 2, 4]] prediction str:  t  taiitaaiitai\n",
      "36 loss:  2.2774012088775635 prediction:  [[5 0 0 5 8 7 7 5 8 8 7 7 5 8 7]] true Y:  [[7, 9, 0, 1, 2, 4, 0, 6, 8, 3, 5, 0, 1, 2, 4]] prediction str:  t  taiitaaiitai\n",
      "37 loss:  2.2774012088775635 prediction:  [[5 0 0 5 8 7 7 5 8 8 7 7 5 8 7]] true Y:  [[7, 9, 0, 1, 2, 4, 0, 6, 8, 3, 5, 0, 1, 2, 4]] prediction str:  t  taiitaaiitai\n",
      "38 loss:  2.2774012088775635 prediction:  [[5 0 0 5 8 7 7 5 8 8 7 7 5 8 7]] true Y:  [[7, 9, 0, 1, 2, 4, 0, 6, 8, 3, 5, 0, 1, 2, 4]] prediction str:  t  taiitaaiitai\n",
      "39 loss:  2.2774012088775635 prediction:  [[5 0 0 5 8 7 7 5 8 8 7 7 5 8 7]] true Y:  [[7, 9, 0, 1, 2, 4, 0, 6, 8, 3, 5, 0, 1, 2, 4]] prediction str:  t  taiitaaiitai\n",
      "40 loss:  2.2774012088775635 prediction:  [[5 0 0 5 8 7 7 5 8 8 7 7 5 8 7]] true Y:  [[7, 9, 0, 1, 2, 4, 0, 6, 8, 3, 5, 0, 1, 2, 4]] prediction str:  t  taiitaaiitai\n",
      "41 loss:  2.2774012088775635 prediction:  [[5 0 0 5 8 7 7 5 8 8 7 7 5 8 7]] true Y:  [[7, 9, 0, 1, 2, 4, 0, 6, 8, 3, 5, 0, 1, 2, 4]] prediction str:  t  taiitaaiitai\n",
      "42 loss:  2.2774012088775635 prediction:  [[5 0 0 5 8 7 7 5 8 8 7 7 5 8 7]] true Y:  [[7, 9, 0, 1, 2, 4, 0, 6, 8, 3, 5, 0, 1, 2, 4]] prediction str:  t  taiitaaiitai\n",
      "43 loss:  2.2774012088775635 prediction:  [[5 0 0 5 8 7 7 5 8 8 7 7 5 8 7]] true Y:  [[7, 9, 0, 1, 2, 4, 0, 6, 8, 3, 5, 0, 1, 2, 4]] prediction str:  t  taiitaaiitai\n",
      "44 loss:  2.2774012088775635 prediction:  [[5 0 0 5 8 7 7 5 8 8 7 7 5 8 7]] true Y:  [[7, 9, 0, 1, 2, 4, 0, 6, 8, 3, 5, 0, 1, 2, 4]] prediction str:  t  taiitaaiitai\n",
      "45 loss:  2.2774012088775635 prediction:  [[5 0 0 5 8 7 7 5 8 8 7 7 5 8 7]] true Y:  [[7, 9, 0, 1, 2, 4, 0, 6, 8, 3, 5, 0, 1, 2, 4]] prediction str:  t  taiitaaiitai\n",
      "46 loss:  2.2774012088775635 prediction:  [[5 0 0 5 8 7 7 5 8 8 7 7 5 8 7]] true Y:  [[7, 9, 0, 1, 2, 4, 0, 6, 8, 3, 5, 0, 1, 2, 4]] prediction str:  t  taiitaaiitai\n",
      "47 loss:  2.2774012088775635 prediction:  [[5 0 0 5 8 7 7 5 8 8 7 7 5 8 7]] true Y:  [[7, 9, 0, 1, 2, 4, 0, 6, 8, 3, 5, 0, 1, 2, 4]] prediction str:  t  taiitaaiitai\n",
      "48 loss:  2.2774012088775635 prediction:  [[5 0 0 5 8 7 7 5 8 8 7 7 5 8 7]] true Y:  [[7, 9, 0, 1, 2, 4, 0, 6, 8, 3, 5, 0, 1, 2, 4]] prediction str:  t  taiitaaiitai\n",
      "49 loss:  2.2774012088775635 prediction:  [[5 0 0 5 8 7 7 5 8 8 7 7 5 8 7]] true Y:  [[7, 9, 0, 1, 2, 4, 0, 6, 8, 3, 5, 0, 1, 2, 4]] prediction str:  t  taiitaaiitai\n"
     ]
    }
   ],
   "source": [
    "# start training\n",
    "for i in range(50):\n",
    "    optimizer.zero_grad()\n",
    "    outputs, _status = rnn(X)\n",
    "    loss = criterion(outputs.view(-1, dic_size), Y.view(-1))\n",
    "    loss.backward()\n",
    "    optimizer.step()\n",
    "\n",
    "    result = outputs.data.numpy().argmax(axis=2)\n",
    "    result_str = ''.join([char_set[c] for c in np.squeeze(result)])\n",
    "    print(i, \"loss: \", loss.item(), \"prediction: \", result, \"true Y: \", y_data, \"prediction str: \", result_str)"
   ]
  }
 ],
 "metadata": {
  "kernelspec": {
   "display_name": "Python 3",
   "language": "python",
   "name": "python3"
  },
  "language_info": {
   "codemirror_mode": {
    "name": "ipython",
    "version": 3
   },
   "file_extension": ".py",
   "mimetype": "text/x-python",
   "name": "python",
   "nbconvert_exporter": "python",
   "pygments_lexer": "ipython3",
   "version": "3.8.10"
  }
 },
 "nbformat": 4,
 "nbformat_minor": 5
}
