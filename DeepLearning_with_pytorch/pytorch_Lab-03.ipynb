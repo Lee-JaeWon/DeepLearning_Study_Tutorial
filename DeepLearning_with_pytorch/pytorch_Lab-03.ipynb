{
 "cells": [
  {
   "cell_type": "code",
   "execution_count": 6,
   "id": "c972c7ba",
   "metadata": {},
   "outputs": [
    {
     "name": "stdout",
     "output_type": "stream",
     "text": [
      "Epoch    1/10  W: 0.000, Cost: 4.666667\n",
      "Epoch    2/10  W: 1.400, Cost: 0.746666\n",
      "Epoch    3/10  W: 0.840, Cost: 0.119467\n",
      "Epoch    4/10  W: 1.064, Cost: 0.019115\n",
      "Epoch    5/10  W: 0.974, Cost: 0.003058\n",
      "Epoch    6/10  W: 1.010, Cost: 0.000489\n",
      "Epoch    7/10  W: 0.996, Cost: 0.000078\n",
      "Epoch    8/10  W: 1.002, Cost: 0.000013\n",
      "Epoch    9/10  W: 0.999, Cost: 0.000002\n",
      "Epoch   10/10  W: 1.000, Cost: 0.000000\n"
     ]
    }
   ],
   "source": [
    "import torch\n",
    "\n",
    "x_train = torch.FloatTensor([[1], [2], [3]])\n",
    "y_train = torch.FloatTensor([[1], [2], [3]])\n",
    "\n",
    "W = torch.zeros(1)\n",
    "\n",
    "lr = 0.1\n",
    "\n",
    "nb_epochs = 10\n",
    "for epoch in range(1, nb_epochs + 1):\n",
    "    \n",
    "    # H(x)\n",
    "    hypothesis = x_train * W\n",
    "     \n",
    "    #cost gradient\n",
    "    cost = torch.mean((hypothesis - y_train) ** 2)\n",
    "    gradient = torch.sum((W * x_train - y_train) * x_train)\n",
    "\n",
    "    print('Epoch {:4d}/{}  W: {:.3f}, Cost: {:.6f}'.format(epoch, nb_epochs, W.item(), cost.item()))\n",
    "\n",
    "    W -= lr * gradient"
   ]
  }
 ],
 "metadata": {
  "kernelspec": {
   "display_name": "Python 3",
   "language": "python",
   "name": "python3"
  },
  "language_info": {
   "codemirror_mode": {
    "name": "ipython",
    "version": 3
   },
   "file_extension": ".py",
   "mimetype": "text/x-python",
   "name": "python",
   "nbconvert_exporter": "python",
   "pygments_lexer": "ipython3",
   "version": "3.8.10"
  }
 },
 "nbformat": 4,
 "nbformat_minor": 5
}
